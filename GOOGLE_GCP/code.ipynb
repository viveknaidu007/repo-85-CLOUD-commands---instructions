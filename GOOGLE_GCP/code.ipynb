{
 "cells": [
  {
   "cell_type": "code",
   "execution_count": null,
   "metadata": {},
   "outputs": [],
   "source": [
    "# for runnin GCP cloud\n",
    "1. install python in terminal\n",
    "\n",
    "- for debain/linux:\n",
    "* sudo apt update\n",
    "* sudo apt install python3-pip\n",
    "\n",
    "- For CentOS/RHEL:\n",
    "* sudo yum install python\n",
    "\n",
    "- for checking python version:\n",
    "* python --version\n",
    "\n",
    "- for running\n",
    "* python3 manage.py runserver 0.0.0.0.8000\n",
    "\n",
    "\n",
    "1. sudo apt install unzip\n",
    "1. unzip projectfoldername\n",
    "2. "
   ]
  },
  {
   "cell_type": "code",
   "execution_count": null,
   "metadata": {},
   "outputs": [],
   "source": []
  }
 ],
 "metadata": {
  "language_info": {
   "name": "python"
  }
 },
 "nbformat": 4,
 "nbformat_minor": 2
}
